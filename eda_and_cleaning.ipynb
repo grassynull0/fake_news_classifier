{
 "cells": [
  {
   "cell_type": "markdown",
   "metadata": {},
   "source": [
    "# Fake News Classification \n",
    "by Ben Inoyatov\n",
    "### EDA and Cleaning\n",
    "---\n",
    "#### This notebook will load in, clean, wrangle, and apply NLP techniques to two datasets that will be used in the modelling process \n",
    "- First, two datasets will be merged together and stripped of any unncessary columns to create a ```main``` data set. \n",
    "- ```title``` and ```text``` will be merged together in the ```text``` column\n",
    "- In addition to tokenizing and downcasing, sentiment analysis will also be explored \n",
    "- Stemming and Lemming will be two different datasets so that performance can be tracked among different techniques\n",
    "- Topic modelling will also be explored to understand the business case better i.e., what actually is 'Fake News'."
   ]
  },
  {
   "cell_type": "code",
   "execution_count": 1,
   "metadata": {},
   "outputs": [
    {
     "name": "stderr",
     "output_type": "stream",
     "text": [
      "/opt/anaconda3/lib/python3.8/site-packages/tqdm/std.py:670: FutureWarning: The Panel class is removed from pandas. Accessing it from the top-level namespace will also be removed in the next version\n",
      "  from pandas import Panel\n"
     ]
    }
   ],
   "source": [
    "# importing standard libraries \n",
    "import pandas as pd\n",
    "from tqdm import tqdm # progress tracker\n",
    "tqdm.pandas()"
   ]
  },
  {
   "cell_type": "code",
   "execution_count": 2,
   "metadata": {},
   "outputs": [],
   "source": [
    "# two seperate pre-made datasets to concatinate after cleaning for NLP and modeling\n",
    "first = pd.read_csv('news.csv')\n",
    "second = pd.read_csv('train.csv')"
   ]
  },
  {
   "cell_type": "code",
   "execution_count": 3,
   "metadata": {},
   "outputs": [
    {
     "data": {
      "text/html": [
       "<div>\n",
       "<style scoped>\n",
       "    .dataframe tbody tr th:only-of-type {\n",
       "        vertical-align: middle;\n",
       "    }\n",
       "\n",
       "    .dataframe tbody tr th {\n",
       "        vertical-align: top;\n",
       "    }\n",
       "\n",
       "    .dataframe thead th {\n",
       "        text-align: right;\n",
       "    }\n",
       "</style>\n",
       "<table border=\"1\" class=\"dataframe\">\n",
       "  <thead>\n",
       "    <tr style=\"text-align: right;\">\n",
       "      <th></th>\n",
       "      <th>Unnamed: 0</th>\n",
       "      <th>title</th>\n",
       "      <th>text</th>\n",
       "      <th>label</th>\n",
       "    </tr>\n",
       "  </thead>\n",
       "  <tbody>\n",
       "    <tr>\n",
       "      <th>0</th>\n",
       "      <td>8476</td>\n",
       "      <td>You Can Smell Hillary’s Fear</td>\n",
       "      <td>Daniel Greenfield, a Shillman Journalism Fello...</td>\n",
       "      <td>FAKE</td>\n",
       "    </tr>\n",
       "    <tr>\n",
       "      <th>1</th>\n",
       "      <td>10294</td>\n",
       "      <td>Watch The Exact Moment Paul Ryan Committed Pol...</td>\n",
       "      <td>Google Pinterest Digg Linkedin Reddit Stumbleu...</td>\n",
       "      <td>FAKE</td>\n",
       "    </tr>\n",
       "    <tr>\n",
       "      <th>2</th>\n",
       "      <td>3608</td>\n",
       "      <td>Kerry to go to Paris in gesture of sympathy</td>\n",
       "      <td>U.S. Secretary of State John F. Kerry said Mon...</td>\n",
       "      <td>REAL</td>\n",
       "    </tr>\n",
       "    <tr>\n",
       "      <th>3</th>\n",
       "      <td>10142</td>\n",
       "      <td>Bernie supporters on Twitter erupt in anger ag...</td>\n",
       "      <td>— Kaydee King (@KaydeeKing) November 9, 2016 T...</td>\n",
       "      <td>FAKE</td>\n",
       "    </tr>\n",
       "    <tr>\n",
       "      <th>4</th>\n",
       "      <td>875</td>\n",
       "      <td>The Battle of New York: Why This Primary Matters</td>\n",
       "      <td>It's primary day in New York and front-runners...</td>\n",
       "      <td>REAL</td>\n",
       "    </tr>\n",
       "  </tbody>\n",
       "</table>\n",
       "</div>"
      ],
      "text/plain": [
       "   Unnamed: 0                                              title  \\\n",
       "0        8476                       You Can Smell Hillary’s Fear   \n",
       "1       10294  Watch The Exact Moment Paul Ryan Committed Pol...   \n",
       "2        3608        Kerry to go to Paris in gesture of sympathy   \n",
       "3       10142  Bernie supporters on Twitter erupt in anger ag...   \n",
       "4         875   The Battle of New York: Why This Primary Matters   \n",
       "\n",
       "                                                text label  \n",
       "0  Daniel Greenfield, a Shillman Journalism Fello...  FAKE  \n",
       "1  Google Pinterest Digg Linkedin Reddit Stumbleu...  FAKE  \n",
       "2  U.S. Secretary of State John F. Kerry said Mon...  REAL  \n",
       "3  — Kaydee King (@KaydeeKing) November 9, 2016 T...  FAKE  \n",
       "4  It's primary day in New York and front-runners...  REAL  "
      ]
     },
     "execution_count": 3,
     "metadata": {},
     "output_type": "execute_result"
    }
   ],
   "source": [
    "first.head()"
   ]
  },
  {
   "cell_type": "markdown",
   "metadata": {},
   "source": [
    "- At first glance:\n",
    "  - change the label to 1s and 0s \n",
    "  - join the title and text "
   ]
  },
  {
   "cell_type": "code",
   "execution_count": 4,
   "metadata": {},
   "outputs": [
    {
     "data": {
      "text/html": [
       "<div>\n",
       "<style scoped>\n",
       "    .dataframe tbody tr th:only-of-type {\n",
       "        vertical-align: middle;\n",
       "    }\n",
       "\n",
       "    .dataframe tbody tr th {\n",
       "        vertical-align: top;\n",
       "    }\n",
       "\n",
       "    .dataframe thead th {\n",
       "        text-align: right;\n",
       "    }\n",
       "</style>\n",
       "<table border=\"1\" class=\"dataframe\">\n",
       "  <thead>\n",
       "    <tr style=\"text-align: right;\">\n",
       "      <th></th>\n",
       "      <th>id</th>\n",
       "      <th>title</th>\n",
       "      <th>author</th>\n",
       "      <th>text</th>\n",
       "      <th>label</th>\n",
       "    </tr>\n",
       "  </thead>\n",
       "  <tbody>\n",
       "    <tr>\n",
       "      <th>0</th>\n",
       "      <td>0</td>\n",
       "      <td>House Dem Aide: We Didn’t Even See Comey’s Let...</td>\n",
       "      <td>Darrell Lucus</td>\n",
       "      <td>House Dem Aide: We Didn’t Even See Comey’s Let...</td>\n",
       "      <td>1</td>\n",
       "    </tr>\n",
       "    <tr>\n",
       "      <th>1</th>\n",
       "      <td>1</td>\n",
       "      <td>FLYNN: Hillary Clinton, Big Woman on Campus - ...</td>\n",
       "      <td>Daniel J. Flynn</td>\n",
       "      <td>Ever get the feeling your life circles the rou...</td>\n",
       "      <td>0</td>\n",
       "    </tr>\n",
       "    <tr>\n",
       "      <th>2</th>\n",
       "      <td>2</td>\n",
       "      <td>Why the Truth Might Get You Fired</td>\n",
       "      <td>Consortiumnews.com</td>\n",
       "      <td>Why the Truth Might Get You Fired October 29, ...</td>\n",
       "      <td>1</td>\n",
       "    </tr>\n",
       "    <tr>\n",
       "      <th>3</th>\n",
       "      <td>3</td>\n",
       "      <td>15 Civilians Killed In Single US Airstrike Hav...</td>\n",
       "      <td>Jessica Purkiss</td>\n",
       "      <td>Videos 15 Civilians Killed In Single US Airstr...</td>\n",
       "      <td>1</td>\n",
       "    </tr>\n",
       "    <tr>\n",
       "      <th>4</th>\n",
       "      <td>4</td>\n",
       "      <td>Iranian woman jailed for fictional unpublished...</td>\n",
       "      <td>Howard Portnoy</td>\n",
       "      <td>Print \\nAn Iranian woman has been sentenced to...</td>\n",
       "      <td>1</td>\n",
       "    </tr>\n",
       "  </tbody>\n",
       "</table>\n",
       "</div>"
      ],
      "text/plain": [
       "   id                                              title              author  \\\n",
       "0   0  House Dem Aide: We Didn’t Even See Comey’s Let...       Darrell Lucus   \n",
       "1   1  FLYNN: Hillary Clinton, Big Woman on Campus - ...     Daniel J. Flynn   \n",
       "2   2                  Why the Truth Might Get You Fired  Consortiumnews.com   \n",
       "3   3  15 Civilians Killed In Single US Airstrike Hav...     Jessica Purkiss   \n",
       "4   4  Iranian woman jailed for fictional unpublished...      Howard Portnoy   \n",
       "\n",
       "                                                text  label  \n",
       "0  House Dem Aide: We Didn’t Even See Comey’s Let...      1  \n",
       "1  Ever get the feeling your life circles the rou...      0  \n",
       "2  Why the Truth Might Get You Fired October 29, ...      1  \n",
       "3  Videos 15 Civilians Killed In Single US Airstr...      1  \n",
       "4  Print \\nAn Iranian woman has been sentenced to...      1  "
      ]
     },
     "execution_count": 4,
     "metadata": {},
     "output_type": "execute_result"
    }
   ],
   "source": [
    "second.head()"
   ]
  },
  {
   "cell_type": "markdown",
   "metadata": {},
   "source": [
    "- label of 1 is unreliabe/fake\n",
    "- author is not needed but like with the first df, title and text will be merged\n",
    "---"
   ]
  },
  {
   "cell_type": "code",
   "execution_count": 5,
   "metadata": {},
   "outputs": [
    {
     "name": "stdout",
     "output_type": "stream",
     "text": [
      "(6335, 4)\n",
      "(20800, 5)\n"
     ]
    }
   ],
   "source": [
    "print(first.shape)\n",
    "print(second.shape)"
   ]
  },
  {
   "cell_type": "markdown",
   "metadata": {},
   "source": [
    "#### Total observations should be 27135"
   ]
  },
  {
   "cell_type": "code",
   "execution_count": 6,
   "metadata": {},
   "outputs": [],
   "source": [
    "first['text'] = first['title'] + ' ' + first['text']      # joining title and text \n",
    "second['text'] = second['title'] + ' ' + second['text']   \n",
    "first = first[['text', 'label']]                          # only using text and label\n",
    "second = second[['text', 'label']]\n",
    "first['label'] = first['label'].apply(lambda x: 1 if x == 'FAKE' else 0) # changing categorical variables to numeric"
   ]
  },
  {
   "cell_type": "code",
   "execution_count": 7,
   "metadata": {},
   "outputs": [],
   "source": [
    "# concatinating first and second dfs with text and label. \n",
    "frames = [first, second] \n",
    "main = pd.concat(frames, ignore_index=True)"
   ]
  },
  {
   "cell_type": "code",
   "execution_count": 8,
   "metadata": {},
   "outputs": [
    {
     "data": {
      "text/html": [
       "<div>\n",
       "<style scoped>\n",
       "    .dataframe tbody tr th:only-of-type {\n",
       "        vertical-align: middle;\n",
       "    }\n",
       "\n",
       "    .dataframe tbody tr th {\n",
       "        vertical-align: top;\n",
       "    }\n",
       "\n",
       "    .dataframe thead th {\n",
       "        text-align: right;\n",
       "    }\n",
       "</style>\n",
       "<table border=\"1\" class=\"dataframe\">\n",
       "  <thead>\n",
       "    <tr style=\"text-align: right;\">\n",
       "      <th></th>\n",
       "      <th>text</th>\n",
       "      <th>label</th>\n",
       "    </tr>\n",
       "  </thead>\n",
       "  <tbody>\n",
       "    <tr>\n",
       "      <th>0</th>\n",
       "      <td>You Can Smell Hillary’s Fear Daniel Greenfield...</td>\n",
       "      <td>1</td>\n",
       "    </tr>\n",
       "    <tr>\n",
       "      <th>1</th>\n",
       "      <td>Watch The Exact Moment Paul Ryan Committed Pol...</td>\n",
       "      <td>1</td>\n",
       "    </tr>\n",
       "    <tr>\n",
       "      <th>2</th>\n",
       "      <td>Kerry to go to Paris in gesture of sympathy U....</td>\n",
       "      <td>0</td>\n",
       "    </tr>\n",
       "    <tr>\n",
       "      <th>3</th>\n",
       "      <td>Bernie supporters on Twitter erupt in anger ag...</td>\n",
       "      <td>1</td>\n",
       "    </tr>\n",
       "    <tr>\n",
       "      <th>4</th>\n",
       "      <td>The Battle of New York: Why This Primary Matte...</td>\n",
       "      <td>0</td>\n",
       "    </tr>\n",
       "    <tr>\n",
       "      <th>...</th>\n",
       "      <td>...</td>\n",
       "      <td>...</td>\n",
       "    </tr>\n",
       "    <tr>\n",
       "      <th>27130</th>\n",
       "      <td>Rapper T.I.: Trump a ’Poster Child For White S...</td>\n",
       "      <td>0</td>\n",
       "    </tr>\n",
       "    <tr>\n",
       "      <th>27131</th>\n",
       "      <td>N.F.L. Playoffs: Schedule, Matchups and Odds -...</td>\n",
       "      <td>0</td>\n",
       "    </tr>\n",
       "    <tr>\n",
       "      <th>27132</th>\n",
       "      <td>Macy’s Is Said to Receive Takeover Approach by...</td>\n",
       "      <td>0</td>\n",
       "    </tr>\n",
       "    <tr>\n",
       "      <th>27133</th>\n",
       "      <td>NATO, Russia To Hold Parallel Exercises In Bal...</td>\n",
       "      <td>1</td>\n",
       "    </tr>\n",
       "    <tr>\n",
       "      <th>27134</th>\n",
       "      <td>What Keeps the F-35 Alive   David Swanson is a...</td>\n",
       "      <td>1</td>\n",
       "    </tr>\n",
       "  </tbody>\n",
       "</table>\n",
       "<p>27135 rows × 2 columns</p>\n",
       "</div>"
      ],
      "text/plain": [
       "                                                    text  label\n",
       "0      You Can Smell Hillary’s Fear Daniel Greenfield...      1\n",
       "1      Watch The Exact Moment Paul Ryan Committed Pol...      1\n",
       "2      Kerry to go to Paris in gesture of sympathy U....      0\n",
       "3      Bernie supporters on Twitter erupt in anger ag...      1\n",
       "4      The Battle of New York: Why This Primary Matte...      0\n",
       "...                                                  ...    ...\n",
       "27130  Rapper T.I.: Trump a ’Poster Child For White S...      0\n",
       "27131  N.F.L. Playoffs: Schedule, Matchups and Odds -...      0\n",
       "27132  Macy’s Is Said to Receive Takeover Approach by...      0\n",
       "27133  NATO, Russia To Hold Parallel Exercises In Bal...      1\n",
       "27134  What Keeps the F-35 Alive   David Swanson is a...      1\n",
       "\n",
       "[27135 rows x 2 columns]"
      ]
     },
     "execution_count": 8,
     "metadata": {},
     "output_type": "execute_result"
    }
   ],
   "source": [
    "main"
   ]
  },
  {
   "cell_type": "code",
   "execution_count": 9,
   "metadata": {},
   "outputs": [
    {
     "data": {
      "text/plain": [
       "text     597\n",
       "label      0\n",
       "dtype: int64"
      ]
     },
     "execution_count": 9,
     "metadata": {},
     "output_type": "execute_result"
    }
   ],
   "source": [
    "main.isna().sum()"
   ]
  },
  {
   "cell_type": "markdown",
   "metadata": {},
   "source": [
    "#### Only 2% of data has null values and so dropping them seems best "
   ]
  },
  {
   "cell_type": "code",
   "execution_count": 10,
   "metadata": {},
   "outputs": [],
   "source": [
    "main.dropna(inplace=True)"
   ]
  },
  {
   "cell_type": "code",
   "execution_count": 11,
   "metadata": {},
   "outputs": [],
   "source": [
    "main.reset_index(inplace=True, drop=True)"
   ]
  },
  {
   "cell_type": "code",
   "execution_count": 12,
   "metadata": {},
   "outputs": [
    {
     "data": {
      "text/plain": [
       "text     0\n",
       "label    0\n",
       "dtype: int64"
      ]
     },
     "execution_count": 12,
     "metadata": {},
     "output_type": "execute_result"
    }
   ],
   "source": [
    "main.isna().sum()"
   ]
  },
  {
   "cell_type": "markdown",
   "metadata": {},
   "source": [
    "#### Class balance"
   ]
  },
  {
   "cell_type": "code",
   "execution_count": 16,
   "metadata": {
    "scrolled": true
   },
   "outputs": [
    {
     "name": "stderr",
     "output_type": "stream",
     "text": [
      "/opt/anaconda3/lib/python3.8/site-packages/seaborn/_decorators.py:36: FutureWarning: Pass the following variable as a keyword arg: x. From version 0.12, the only valid positional argument will be `data`, and passing other arguments without an explicit keyword will result in an error or misinterpretation.\n",
      "  warnings.warn(\n"
     ]
    },
    {
     "data": {
      "image/png": "[encoded data removed]",
      "text/plain": [
       "<Figure size 432x288 with 1 Axes>"
      ]
     },
     "metadata": {},
     "output_type": "display_data"
    }
   ],
   "source": [
    "import seaborn as sns\n",
    "import matplotlib.pyplot as plt\n",
    "sns.set_theme(style=\"darkgrid\")\n",
    "\n",
    "sns.countplot(main.label, palette='mako')\n",
    "plt.savefig('class_balance.png')"
   ]
  },
  {
   "cell_type": "markdown",
   "metadata": {},
   "source": [
    "- Classes seem very balanced. Using a balanced class_weight in the modelling process should not change results too drastically. \n",
    "---\n"
   ]
  },
  {
   "cell_type": "markdown",
   "metadata": {},
   "source": [
    "## Tokenized with stop words removed, no lemma or stemming yet "
   ]
  },
  {
   "cell_type": "code",
   "execution_count": 13,
   "metadata": {},
   "outputs": [],
   "source": [
    "import nltk"
   ]
  },
  {
   "cell_type": "code",
   "execution_count": 14,
   "metadata": {},
   "outputs": [],
   "source": [
    "# Importing stop words and punctuations to remove from text \n",
    "import string\n",
    "from nltk.corpus import stopwords\n",
    "\n",
    "stopwords = stopwords.words(['english', 'russian'])\n",
    "stopwords += list(string.punctuation)\n",
    "stopwords += ['’', '“', '”', '–', \"'s\", \"''\",\n",
    "              '—', '``', '‘', '``', 'de', 'la',\n",
    "             '1', 'mr.', 'ms.', '1', 'mrs.', 'a.',\n",
    "             'u.', '000', 's.', 'в', \"n't\", '2', '.', 'в']"
   ]
  },
  {
   "cell_type": "code",
   "execution_count": 15,
   "metadata": {},
   "outputs": [],
   "source": [
    "# A function to downcase, tokenize, and remove stopwords\n",
    "def process_article(article):\n",
    "    tokens = nltk.word_tokenize(article)\n",
    "    stopwords_removed = [token.lower() for token in tokens if token.lower() not in stopwords]\n",
    "    return ' '.join(stopwords_removed)"
   ]
  },
  {
   "cell_type": "code",
   "execution_count": 18,
   "metadata": {},
   "outputs": [
    {
     "name": "stderr",
     "output_type": "stream",
     "text": [
      "/opt/anaconda3/lib/python3.8/site-packages/tqdm/std.py:670: FutureWarning: The Panel class is removed from pandas. Accessing it from the top-level namespace will also be removed in the next version\n",
      "  from pandas import Panel\n",
      "100%|██████████| 26538/26538 [23:46<00:00, 18.60it/s]  \n"
     ]
    }
   ],
   "source": [
    "# Using tqdm to track progress\n",
    "from tqdm import tqdm\n",
    "tqdm.pandas()\n",
    "working_text = main.copy()\n",
    "\n",
    "working_text['text'] = main['text'].progress_apply(process_article)"
   ]
  },
  {
   "cell_type": "code",
   "execution_count": 19,
   "metadata": {},
   "outputs": [
    {
     "data": {
      "text/html": [
       "<div>\n",
       "<style scoped>\n",
       "    .dataframe tbody tr th:only-of-type {\n",
       "        vertical-align: middle;\n",
       "    }\n",
       "\n",
       "    .dataframe tbody tr th {\n",
       "        vertical-align: top;\n",
       "    }\n",
       "\n",
       "    .dataframe thead th {\n",
       "        text-align: right;\n",
       "    }\n",
       "</style>\n",
       "<table border=\"1\" class=\"dataframe\">\n",
       "  <thead>\n",
       "    <tr style=\"text-align: right;\">\n",
       "      <th></th>\n",
       "      <th>text</th>\n",
       "      <th>label</th>\n",
       "    </tr>\n",
       "  </thead>\n",
       "  <tbody>\n",
       "    <tr>\n",
       "      <th>0</th>\n",
       "      <td>smell hillary fear daniel greenfield shillman ...</td>\n",
       "      <td>1</td>\n",
       "    </tr>\n",
       "    <tr>\n",
       "      <th>1</th>\n",
       "      <td>watch exact moment paul ryan committed politic...</td>\n",
       "      <td>1</td>\n",
       "    </tr>\n",
       "    <tr>\n",
       "      <th>2</th>\n",
       "      <td>kerry go paris gesture sympathy u.s. secretary...</td>\n",
       "      <td>0</td>\n",
       "    </tr>\n",
       "    <tr>\n",
       "      <th>3</th>\n",
       "      <td>bernie supporters twitter erupt anger dnc 'we ...</td>\n",
       "      <td>1</td>\n",
       "    </tr>\n",
       "    <tr>\n",
       "      <th>4</th>\n",
       "      <td>battle new york primary matters primary day ne...</td>\n",
       "      <td>0</td>\n",
       "    </tr>\n",
       "    <tr>\n",
       "      <th>...</th>\n",
       "      <td>...</td>\n",
       "      <td>...</td>\n",
       "    </tr>\n",
       "    <tr>\n",
       "      <th>26533</th>\n",
       "      <td>rapper t.i trump poster child white supremacy ...</td>\n",
       "      <td>0</td>\n",
       "    </tr>\n",
       "    <tr>\n",
       "      <th>26534</th>\n",
       "      <td>n.f.l playoffs schedule matchups odds new york...</td>\n",
       "      <td>0</td>\n",
       "    </tr>\n",
       "    <tr>\n",
       "      <th>26535</th>\n",
       "      <td>macy said receive takeover approach hudson bay...</td>\n",
       "      <td>0</td>\n",
       "    </tr>\n",
       "    <tr>\n",
       "      <th>26536</th>\n",
       "      <td>nato russia hold parallel exercises balkans na...</td>\n",
       "      <td>1</td>\n",
       "    </tr>\n",
       "    <tr>\n",
       "      <th>26537</th>\n",
       "      <td>keeps f-35 alive david swanson author activist...</td>\n",
       "      <td>1</td>\n",
       "    </tr>\n",
       "  </tbody>\n",
       "</table>\n",
       "<p>26538 rows × 2 columns</p>\n",
       "</div>"
      ],
      "text/plain": [
       "                                                    text  label\n",
       "0      smell hillary fear daniel greenfield shillman ...      1\n",
       "1      watch exact moment paul ryan committed politic...      1\n",
       "2      kerry go paris gesture sympathy u.s. secretary...      0\n",
       "3      bernie supporters twitter erupt anger dnc 'we ...      1\n",
       "4      battle new york primary matters primary day ne...      0\n",
       "...                                                  ...    ...\n",
       "26533  rapper t.i trump poster child white supremacy ...      0\n",
       "26534  n.f.l playoffs schedule matchups odds new york...      0\n",
       "26535  macy said receive takeover approach hudson bay...      0\n",
       "26536  nato russia hold parallel exercises balkans na...      1\n",
       "26537  keeps f-35 alive david swanson author activist...      1\n",
       "\n",
       "[26538 rows x 2 columns]"
      ]
     },
     "execution_count": 19,
     "metadata": {},
     "output_type": "execute_result"
    }
   ],
   "source": [
    "working_text\n",
    "\n",
    "# note 4th column: supporters (no lemming or stemming just stopword removal)"
   ]
  },
  {
   "cell_type": "markdown",
   "metadata": {},
   "source": [
    "### Sentiment Analysis \n",
    "- Subjectivity: measured from 0 to 1 where 1 is a subjective statement, i.e. a statement based on personal opionion rather than fact\n",
    "- Polarity: measured from -1 to 1 where -1 is a negative statement and 1 is a positive statement. 0 is neutral"
   ]
  },
  {
   "cell_type": "code",
   "execution_count": 21,
   "metadata": {},
   "outputs": [],
   "source": [
    "from textblob import TextBlob"
   ]
  },
  {
   "cell_type": "code",
   "execution_count": 22,
   "metadata": {},
   "outputs": [],
   "source": [
    "def subj(series):\n",
    "    blob = TextBlob(series)\n",
    "    return blob.subjectivity\n",
    "def pola(series):\n",
    "    blob=TextBlob(series)\n",
    "    return blob.polarity\n",
    "\n"
   ]
  },
  {
   "cell_type": "code",
   "execution_count": 24,
   "metadata": {},
   "outputs": [
    {
     "name": "stderr",
     "output_type": "stream",
     "text": [
      "100%|██████████| 26538/26538 [08:30<00:00, 52.01it/s] \n"
     ]
    }
   ],
   "source": [
    "working_text['polarity'] = main['text'].progress_apply(pola)"
   ]
  },
  {
   "cell_type": "code",
   "execution_count": 26,
   "metadata": {
    "scrolled": true
   },
   "outputs": [
    {
     "name": "stderr",
     "output_type": "stream",
     "text": [
      "100%|██████████| 26538/26538 [09:27<00:00, 46.78it/s] \n"
     ]
    }
   ],
   "source": [
    "working_text['subjectivity'] = main['text'].progress_apply(subj)"
   ]
  },
  {
   "cell_type": "code",
   "execution_count": 27,
   "metadata": {},
   "outputs": [
    {
     "data": {
      "text/html": [
       "<div>\n",
       "<style scoped>\n",
       "    .dataframe tbody tr th:only-of-type {\n",
       "        vertical-align: middle;\n",
       "    }\n",
       "\n",
       "    .dataframe tbody tr th {\n",
       "        vertical-align: top;\n",
       "    }\n",
       "\n",
       "    .dataframe thead th {\n",
       "        text-align: right;\n",
       "    }\n",
       "</style>\n",
       "<table border=\"1\" class=\"dataframe\">\n",
       "  <thead>\n",
       "    <tr style=\"text-align: right;\">\n",
       "      <th></th>\n",
       "      <th>text</th>\n",
       "      <th>label</th>\n",
       "      <th>polarity</th>\n",
       "      <th>subjectivity</th>\n",
       "    </tr>\n",
       "  </thead>\n",
       "  <tbody>\n",
       "    <tr>\n",
       "      <th>0</th>\n",
       "      <td>smell hillary fear daniel greenfield shillman ...</td>\n",
       "      <td>1</td>\n",
       "      <td>0.059595</td>\n",
       "      <td>0.562654</td>\n",
       "    </tr>\n",
       "    <tr>\n",
       "      <th>1</th>\n",
       "      <td>watch exact moment paul ryan committed politic...</td>\n",
       "      <td>1</td>\n",
       "      <td>0.085219</td>\n",
       "      <td>0.497811</td>\n",
       "    </tr>\n",
       "    <tr>\n",
       "      <th>2</th>\n",
       "      <td>kerry go paris gesture sympathy u.s. secretary...</td>\n",
       "      <td>0</td>\n",
       "      <td>0.102574</td>\n",
       "      <td>0.348775</td>\n",
       "    </tr>\n",
       "    <tr>\n",
       "      <th>3</th>\n",
       "      <td>bernie supporters twitter erupt anger dnc 'we ...</td>\n",
       "      <td>1</td>\n",
       "      <td>0.027543</td>\n",
       "      <td>0.491887</td>\n",
       "    </tr>\n",
       "    <tr>\n",
       "      <th>4</th>\n",
       "      <td>battle new york primary matters primary day ne...</td>\n",
       "      <td>0</td>\n",
       "      <td>0.252738</td>\n",
       "      <td>0.423682</td>\n",
       "    </tr>\n",
       "  </tbody>\n",
       "</table>\n",
       "</div>"
      ],
      "text/plain": [
       "                                                text  label  polarity  \\\n",
       "0  smell hillary fear daniel greenfield shillman ...      1  0.059595   \n",
       "1  watch exact moment paul ryan committed politic...      1  0.085219   \n",
       "2  kerry go paris gesture sympathy u.s. secretary...      0  0.102574   \n",
       "3  bernie supporters twitter erupt anger dnc 'we ...      1  0.027543   \n",
       "4  battle new york primary matters primary day ne...      0  0.252738   \n",
       "\n",
       "   subjectivity  \n",
       "0      0.562654  \n",
       "1      0.497811  \n",
       "2      0.348775  \n",
       "3      0.491887  \n",
       "4      0.423682  "
      ]
     },
     "execution_count": 27,
     "metadata": {},
     "output_type": "execute_result"
    }
   ],
   "source": [
    "working_text.head()"
   ]
  },
  {
   "cell_type": "code",
   "execution_count": 28,
   "metadata": {},
   "outputs": [],
   "source": [
    "working_text.to_csv('working_text.csv')"
   ]
  },
  {
   "cell_type": "markdown",
   "metadata": {},
   "source": [
    "### Lemma "
   ]
  },
  {
   "cell_type": "code",
   "execution_count": 16,
   "metadata": {},
   "outputs": [],
   "source": [
    "from nltk.stem import WordNetLemmatizer \n"
   ]
  },
  {
   "cell_type": "code",
   "execution_count": 17,
   "metadata": {},
   "outputs": [],
   "source": [
    "lemmatizer = WordNetLemmatizer()"
   ]
  },
  {
   "cell_type": "code",
   "execution_count": 18,
   "metadata": {},
   "outputs": [],
   "source": [
    "def lemmafunc(article): \n",
    "    tokens = nltk.word_tokenize(article)\n",
    "    stopwords_removed = [token.lower() for token in tokens if token.lower() not in stopwords]\n",
    "    lemmatized_output = ' '.join([lemmatizer.lemmatize(w) for w in stopwords_removed])\n",
    "    return lemmatized_output"
   ]
  },
  {
   "cell_type": "code",
   "execution_count": 19,
   "metadata": {},
   "outputs": [
    {
     "name": "stderr",
     "output_type": "stream",
     "text": [
      "100%|██████████| 26538/26538 [06:42<00:00, 65.90it/s]\n"
     ]
    }
   ],
   "source": [
    "lemmaText = main['text'].progress_apply(lemmafunc)"
   ]
  },
  {
   "cell_type": "code",
   "execution_count": 20,
   "metadata": {
    "scrolled": true
   },
   "outputs": [
    {
     "data": {
      "text/plain": [
       "0        smell hillary fear daniel greenfield shillman ...\n",
       "1        watch exact moment paul ryan committed politic...\n",
       "2        kerry go paris gesture sympathy u.s. secretary...\n",
       "3        bernie supporter twitter erupt anger dnc 'we t...\n",
       "4        battle new york primary matter primary day new...\n",
       "                               ...                        \n",
       "26533    rapper t.i trump poster child white supremacy ...\n",
       "26534    n.f.l playoff schedule matchup odds new york t...\n",
       "26535    macy said receive takeover approach hudson bay...\n",
       "26536    nato russia hold parallel exercise balkan nato...\n",
       "26537    keep f-35 alive david swanson author activist ...\n",
       "Name: text, Length: 26538, dtype: object"
      ]
     },
     "execution_count": 20,
     "metadata": {},
     "output_type": "execute_result"
    }
   ],
   "source": [
    "lemmaText\n",
    "\n",
    "# note 4th column: supporter (no 's' due to lemma)"
   ]
  },
  {
   "cell_type": "code",
   "execution_count": null,
   "metadata": {},
   "outputs": [],
   "source": [
    "lemmaText.to_csv('lemma_text.csv')"
   ]
  },
  {
   "cell_type": "markdown",
   "metadata": {},
   "source": [
    "### Stemming"
   ]
  },
  {
   "cell_type": "code",
   "execution_count": 21,
   "metadata": {},
   "outputs": [],
   "source": [
    "from nltk.stem import PorterStemmer\n",
    "portstem = PorterStemmer()"
   ]
  },
  {
   "cell_type": "code",
   "execution_count": 22,
   "metadata": {},
   "outputs": [],
   "source": [
    "def stemmer(article):\n",
    "    tokens = nltk.word_tokenize(article)\n",
    "    stopwords_removed = [token.lower() for token in tokens if token.lower() not in stopwords]\n",
    "    stem = ' '.join([portstem.stem(w) for w in stopwords_removed])\n",
    "    return stem"
   ]
  },
  {
   "cell_type": "code",
   "execution_count": 23,
   "metadata": {},
   "outputs": [
    {
     "name": "stderr",
     "output_type": "stream",
     "text": [
      "100%|██████████| 26538/26538 [11:12<00:00, 39.46it/s]\n"
     ]
    }
   ],
   "source": [
    "stemText = main['text'].progress_apply(stemmer)"
   ]
  },
  {
   "cell_type": "code",
   "execution_count": 24,
   "metadata": {},
   "outputs": [
    {
     "data": {
      "text/plain": [
       "0        smell hillari fear daniel greenfield shillman ...\n",
       "1        watch exact moment paul ryan commit polit suic...\n",
       "2        kerri go pari gestur sympathi u.s. secretari s...\n",
       "3        berni support twitter erupt anger dnc 'we tri ...\n",
       "4        battl new york primari matter primari day new ...\n",
       "                               ...                        \n",
       "26533    rapper t.i trump poster child white supremaci ...\n",
       "26534    n.f.l playoff schedul matchup odd new york tim...\n",
       "26535    maci said receiv takeov approach hudson bay ne...\n",
       "26536    nato russia hold parallel exercis balkan nato ...\n",
       "26537    keep f-35 aliv david swanson author activist j...\n",
       "Name: text, Length: 26538, dtype: object"
      ]
     },
     "execution_count": 24,
     "metadata": {},
     "output_type": "execute_result"
    }
   ],
   "source": [
    "stemText\n",
    "\n",
    "# note 4th column: support (due to stem)\n",
    "# no lemma/stemm: supporters \n",
    "# lemma: supporter\n",
    "# stem: support"
   ]
  },
  {
   "cell_type": "code",
   "execution_count": null,
   "metadata": {},
   "outputs": [],
   "source": [
    "stemText.to_csv('stem_text.csv')"
   ]
  },
  {
   "cell_type": "markdown",
   "metadata": {},
   "source": [
    "### Topic Modelling using LDA"
   ]
  },
  {
   "cell_type": "code",
   "execution_count": 6,
   "metadata": {},
   "outputs": [],
   "source": [
    "import gensim\n",
    "import nltk"
   ]
  },
  {
   "cell_type": "code",
   "execution_count": 3,
   "metadata": {},
   "outputs": [],
   "source": [
    "working_text = pd.read_csv('working_text.csv')"
   ]
  },
  {
   "cell_type": "code",
   "execution_count": 4,
   "metadata": {},
   "outputs": [],
   "source": [
    "lda_fake_clean = working_text[working_text['label'] == 1]['text']\n",
    "lda_true_clean = working_text[working_text['label'] == 0]['text']"
   ]
  },
  {
   "cell_type": "code",
   "execution_count": 7,
   "metadata": {
    "scrolled": true
   },
   "outputs": [
    {
     "name": "stderr",
     "output_type": "stream",
     "text": [
      "100%|██████████| 12980/12980 [01:05<00:00, 199.53it/s]\n"
     ]
    }
   ],
   "source": [
    "lda_fake_token = lda_fake_clean.progress_apply(lambda row: nltk.word_tokenize(row))"
   ]
  },
  {
   "cell_type": "code",
   "execution_count": 8,
   "metadata": {},
   "outputs": [
    {
     "data": {
      "text/plain": [
       "0        [smell, hillary, fear, daniel, greenfield, shi...\n",
       "1        [watch, exact, moment, paul, ryan, committed, ...\n",
       "3        [bernie, supporters, twitter, erupt, anger, dn...\n",
       "5        [tehran, usa, immigrant, grandparents, 50, yea...\n",
       "6        [girl, horrified, watches, boyfriend, left, fa...\n",
       "                               ...                        \n",
       "26526    [maine, gov, lepage, threatens, investigate, c...\n",
       "26529    [lawyer, kept, hillary, campaign, chief, jail,...\n",
       "26531    [idiot, destroyed, trump, hollywood, star, get...\n",
       "26536    [nato, russia, hold, parallel, exercises, balk...\n",
       "26537    [keeps, f-35, alive, david, swanson, author, a...\n",
       "Name: text, Length: 12980, dtype: object"
      ]
     },
     "execution_count": 8,
     "metadata": {},
     "output_type": "execute_result"
    }
   ],
   "source": [
    "lda_fake_token"
   ]
  },
  {
   "cell_type": "code",
   "execution_count": 12,
   "metadata": {},
   "outputs": [
    {
     "data": {
      "text/plain": [
       "[(0,\n",
       "  [('one', 0.004461786),\n",
       "   ('.', 0.004437621),\n",
       "   ('also', 0.0040894966),\n",
       "   ('new', 0.0037116923),\n",
       "   ('said', 0.0034502586),\n",
       "   ('people', 0.0030158889),\n",
       "   ('health', 0.002875362),\n",
       "   ('would', 0.002788544),\n",
       "   ('many', 0.0026202488),\n",
       "   ('time', 0.0024132866)]),\n",
       " (1,\n",
       "  [('это', 0.011677904),\n",
       "   ('trump', 0.010274109),\n",
       "   ('»', 0.004375772),\n",
       "   ('«', 0.004023876),\n",
       "   ('очень', 0.0037216782),\n",
       "   ('вопрос', 0.0028741318),\n",
       "   ('donald', 0.0028114289),\n",
       "   ('gold', 0.0025727293),\n",
       "   ('которые', 0.0022938908),\n",
       "   ('россии', 0.0020553775)]),\n",
       " (2,\n",
       "  [('die', 0.0066292896),\n",
       "   ('der', 0.0063157766),\n",
       "   ('und', 0.0041717384),\n",
       "   ('people', 0.0039224406),\n",
       "   ('van', 0.003023999),\n",
       "   ('war', 0.0028615326),\n",
       "   ('human', 0.002662771),\n",
       "   ('government', 0.0026511196),\n",
       "   ('world', 0.002494202),\n",
       "   ('u.s.', 0.0023309833)]),\n",
       " (3,\n",
       "  [('trump', 0.012927878),\n",
       "   ('people', 0.006110112),\n",
       "   ('clinton', 0.006095841),\n",
       "   ('.', 0.005214309),\n",
       "   ('hillary', 0.004993709),\n",
       "   ('one', 0.0048428103),\n",
       "   ('us', 0.0043607554),\n",
       "   ('election', 0.0042279735),\n",
       "   ('media', 0.0037809976),\n",
       "   ('like', 0.003100955)]),\n",
       " (4,\n",
       "  [('us', 0.0073894584),\n",
       "   ('war', 0.0065690437),\n",
       "   ('russia', 0.0065595508),\n",
       "   ('people', 0.0056745973),\n",
       "   ('world', 0.0051790876),\n",
       "   ('would', 0.00516587),\n",
       "   ('clinton', 0.004662961),\n",
       "   ('one', 0.0046546957),\n",
       "   ('trump', 0.004547632),\n",
       "   ('government', 0.0035130328)]),\n",
       " (5,\n",
       "  [('en', 0.02503322),\n",
       "   ('el', 0.023963675),\n",
       "   ('que', 0.022245502),\n",
       "   ('los', 0.011436906),\n",
       "   ('un', 0.008847658),\n",
       "   ('del', 0.008589323),\n",
       "   ('se', 0.008078846),\n",
       "   ('las', 0.0074254894),\n",
       "   ('para', 0.0070816353),\n",
       "   ('por', 0.0065744063)]),\n",
       " (6,\n",
       "  [('pipeline', 0.0053215367),\n",
       "   ('said', 0.004353344),\n",
       "   ('dakota', 0.0041535227),\n",
       "   ('percent', 0.0040897387),\n",
       "   ('water', 0.004010083),\n",
       "   ('one', 0.0037549743),\n",
       "   ('...', 0.003348873),\n",
       "   ('trump', 0.0032945566),\n",
       "   ('.', 0.0032871398),\n",
       "   ('people', 0.0031751567)]),\n",
       " (7,\n",
       "  [('clinton', 0.013400068),\n",
       "   ('trump', 0.009516388),\n",
       "   ('hillary', 0.008841827),\n",
       "   ('fbi', 0.0058060386),\n",
       "   ('election', 0.0052692983),\n",
       "   ('.', 0.0052510994),\n",
       "   ('would', 0.0051348303),\n",
       "   ('said', 0.004579857),\n",
       "   ('campaign', 0.0041832244),\n",
       "   ('people', 0.0038539965)]),\n",
       " (8,\n",
       "  [('us', 0.005202438),\n",
       "   ('said', 0.00457524),\n",
       "   ('obama', 0.0041881404),\n",
       "   ('.', 0.003891115),\n",
       "   ('israel', 0.0038103275),\n",
       "   ('one', 0.003382425),\n",
       "   ('russian', 0.003340683),\n",
       "   ('people', 0.0032826362),\n",
       "   ('syria', 0.003156279),\n",
       "   ('would', 0.002928591)]),\n",
       " (9,\n",
       "  [('one', 0.005420201),\n",
       "   ('like', 0.004996162),\n",
       "   ('.', 0.0048595797),\n",
       "   ('people', 0.0040564174),\n",
       "   ('time', 0.0033291057),\n",
       "   ('world', 0.0030413258),\n",
       "   ('know', 0.003028843),\n",
       "   ('new', 0.0030166325),\n",
       "   ('get', 0.002898178),\n",
       "   ('us', 0.0028965008)])]"
      ]
     },
     "execution_count": 12,
     "metadata": {},
     "output_type": "execute_result"
    }
   ],
   "source": [
    "dictionary = gensim.corpora.Dictionary(lda_fake_token)\n",
    "bow_corpus = [dictionary.doc2bow(doc) for doc in lda_fake_token]\n",
    "\n",
    "lda_fake = gensim.models.LdaMulticore(bow_corpus, \n",
    "                                      num_topics=10,\n",
    "                                      id2word = dictionary,\n",
    "                                      passes = 7)\n",
    "lda_fake.show_topics(formatted=False)"
   ]
  },
  {
   "cell_type": "markdown",
   "metadata": {},
   "source": [
    "- Now to try and find topics for real news"
   ]
  },
  {
   "cell_type": "code",
   "execution_count": 10,
   "metadata": {},
   "outputs": [
    {
     "name": "stderr",
     "output_type": "stream",
     "text": [
      "100%|██████████| 13558/13558 [01:01<00:00, 220.81it/s]\n"
     ]
    }
   ],
   "source": [
    "lda_true_token = lda_true_clean.progress_apply(lambda row: nltk.word_tokenize(row))"
   ]
  },
  {
   "cell_type": "code",
   "execution_count": 13,
   "metadata": {},
   "outputs": [
    {
     "data": {
      "text/plain": [
       "[(0,\n",
       "  [('said', 0.016737226),\n",
       "   ('police', 0.006397296),\n",
       "   ('one', 0.00526495),\n",
       "   ('new', 0.004951339),\n",
       "   ('people', 0.003979316),\n",
       "   ('would', 0.0033724708),\n",
       "   ('city', 0.0032540068),\n",
       "   ('two', 0.0029972552),\n",
       "   ('york', 0.002976938),\n",
       "   ('also', 0.0029074815)]),\n",
       " (1,\n",
       "  [('said', 0.010816821),\n",
       "   ('new', 0.0068149627),\n",
       "   ('one', 0.0050268727),\n",
       "   ('york', 0.0040231072),\n",
       "   ('would', 0.003989848),\n",
       "   ('game', 0.0039458512),\n",
       "   ('time', 0.003555129),\n",
       "   ('•', 0.0034620229),\n",
       "   ('first', 0.0033641285),\n",
       "   ('times', 0.0032864655)]),\n",
       " (2,\n",
       "  [('said', 0.0088145835),\n",
       "   ('new', 0.005876484),\n",
       "   ('one', 0.005861683),\n",
       "   ('like', 0.005461542),\n",
       "   ('time', 0.0033498006),\n",
       "   ('york', 0.0033002046),\n",
       "   ('first', 0.0032954891),\n",
       "   ('people', 0.0030657027),\n",
       "   ('show', 0.0030133077),\n",
       "   ('also', 0.002859017)]),\n",
       " (3,\n",
       "  [('trump', 0.018607203),\n",
       "   ('said', 0.01037896),\n",
       "   ('republican', 0.0076241186),\n",
       "   ('cruz', 0.0053089284),\n",
       "   ('would', 0.005240214),\n",
       "   ('state', 0.005095975),\n",
       "   ('campaign', 0.004958102),\n",
       "   ('new', 0.0046545314),\n",
       "   ('clinton', 0.0045433645),\n",
       "   ('.', 0.0044771465)]),\n",
       " (4,\n",
       "  [('clinton', 0.018687634),\n",
       "   ('said', 0.010097856),\n",
       "   ('sanders', 0.009896063),\n",
       "   ('party', 0.0071954997),\n",
       "   ('voters', 0.0056979693),\n",
       "   ('new', 0.005351731),\n",
       "   ('democratic', 0.005105682),\n",
       "   ('would', 0.0045169),\n",
       "   ('campaign', 0.0043791854),\n",
       "   ('percent', 0.0039070426)]),\n",
       " (5,\n",
       "  [('said', 0.010937268),\n",
       "   ('would', 0.0085276235),\n",
       "   ('trump', 0.0075263144),\n",
       "   ('president', 0.0056307977),\n",
       "   ('obama', 0.005552964),\n",
       "   ('new', 0.004791122),\n",
       "   ('states', 0.0045791236),\n",
       "   ('house', 0.004285724),\n",
       "   ('percent', 0.0040228846),\n",
       "   ('china', 0.00383868)]),\n",
       " (6,\n",
       "  [('trump', 0.02874298),\n",
       "   ('said', 0.01179053),\n",
       "   ('president', 0.009231773),\n",
       "   ('clinton', 0.007313513),\n",
       "   ('campaign', 0.0055421675),\n",
       "   ('news', 0.004743062),\n",
       "   ('people', 0.0047062547),\n",
       "   ('would', 0.0045983642),\n",
       "   ('obama', 0.0042598965),\n",
       "   ('new', 0.004182032)]),\n",
       " (7,\n",
       "  [('breitbart', 0.0071745696),\n",
       "   ('said', 0.006936816),\n",
       "   ('trump', 0.0056790356),\n",
       "   ('twitter', 0.005248803),\n",
       "   ('news', 0.005071647),\n",
       "   ('police', 0.0047620884),\n",
       "   ('people', 0.0043928716),\n",
       "   ('one', 0.004048373),\n",
       "   ('2017', 0.003605976),\n",
       "   ('immigration', 0.003500718)]),\n",
       " (8,\n",
       "  [('said', 0.015951578),\n",
       "   ('new', 0.0066904332),\n",
       "   ('one', 0.005175637),\n",
       "   ('people', 0.0049933707),\n",
       "   ('like', 0.0049043125),\n",
       "   ('would', 0.0040027103),\n",
       "   ('years', 0.0032778447),\n",
       "   ('many', 0.0030636168),\n",
       "   ('times', 0.003058328),\n",
       "   ('year', 0.0028763183)]),\n",
       " (9,\n",
       "  [('said', 0.017633092),\n",
       "   ('state', 0.005538371),\n",
       "   ('united', 0.005269957),\n",
       "   ('would', 0.0047020097),\n",
       "   ('states', 0.0044039227),\n",
       "   ('people', 0.0042663515),\n",
       "   ('president', 0.0042560087),\n",
       "   ('government', 0.004014295),\n",
       "   ('one', 0.0037279201),\n",
       "   ('islamic', 0.003563351)])]"
      ]
     },
     "execution_count": 13,
     "metadata": {},
     "output_type": "execute_result"
    }
   ],
   "source": [
    "dictionary = gensim.corpora.Dictionary(lda_true_token)\n",
    "bow_corpus = [dictionary.doc2bow(doc) for doc in lda_true_token]\n",
    "\n",
    "lda_true = gensim.models.LdaMulticore(bow_corpus, \n",
    "                                      num_topics=10,\n",
    "                                      id2word = dictionary,\n",
    "                                      passes = 7)\n",
    "lda_true.show_topics(formatted=False)"
   ]
  }
 ],
 "metadata": {
  "kernelspec": {
   "display_name": "Python 3",
   "language": "python",
   "name": "python3"
  },
  "language_info": {
   "codemirror_mode": {
    "name": "ipython",
    "version": 3
   },
   "file_extension": ".py",
   "mimetype": "text/x-python",
   "name": "python",
   "nbconvert_exporter": "python",
   "pygments_lexer": "ipython3",
   "version": "3.8.3"
  }
 },
 "nbformat": 4,
 "nbformat_minor": 4
}
